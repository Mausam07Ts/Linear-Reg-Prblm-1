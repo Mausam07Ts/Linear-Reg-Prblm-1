{
 "cells": [
  {
   "cell_type": "code",
   "execution_count": 1,
   "id": "083ff7f5",
   "metadata": {},
   "outputs": [],
   "source": [
    "import pandas as pd"
   ]
  },
  {
   "cell_type": "code",
   "execution_count": 2,
   "id": "90aeb2d7",
   "metadata": {},
   "outputs": [],
   "source": [
    "import numpy as np"
   ]
  },
  {
   "cell_type": "code",
   "execution_count": 3,
   "id": "073c88ce",
   "metadata": {},
   "outputs": [],
   "source": [
    "df = pd.read_csv(\"delivery_time.csv\")"
   ]
  },
  {
   "cell_type": "code",
   "execution_count": 4,
   "id": "4bd5c204",
   "metadata": {},
   "outputs": [
    {
     "data": {
      "text/html": [
       "<div>\n",
       "<style scoped>\n",
       "    .dataframe tbody tr th:only-of-type {\n",
       "        vertical-align: middle;\n",
       "    }\n",
       "\n",
       "    .dataframe tbody tr th {\n",
       "        vertical-align: top;\n",
       "    }\n",
       "\n",
       "    .dataframe thead th {\n",
       "        text-align: right;\n",
       "    }\n",
       "</style>\n",
       "<table border=\"1\" class=\"dataframe\">\n",
       "  <thead>\n",
       "    <tr style=\"text-align: right;\">\n",
       "      <th></th>\n",
       "      <th>Delivery Time</th>\n",
       "      <th>Sorting Time</th>\n",
       "    </tr>\n",
       "  </thead>\n",
       "  <tbody>\n",
       "    <tr>\n",
       "      <th>0</th>\n",
       "      <td>21.00</td>\n",
       "      <td>10</td>\n",
       "    </tr>\n",
       "    <tr>\n",
       "      <th>1</th>\n",
       "      <td>13.50</td>\n",
       "      <td>4</td>\n",
       "    </tr>\n",
       "    <tr>\n",
       "      <th>2</th>\n",
       "      <td>19.75</td>\n",
       "      <td>6</td>\n",
       "    </tr>\n",
       "    <tr>\n",
       "      <th>3</th>\n",
       "      <td>24.00</td>\n",
       "      <td>9</td>\n",
       "    </tr>\n",
       "    <tr>\n",
       "      <th>4</th>\n",
       "      <td>29.00</td>\n",
       "      <td>10</td>\n",
       "    </tr>\n",
       "  </tbody>\n",
       "</table>\n",
       "</div>"
      ],
      "text/plain": [
       "   Delivery Time  Sorting Time\n",
       "0          21.00            10\n",
       "1          13.50             4\n",
       "2          19.75             6\n",
       "3          24.00             9\n",
       "4          29.00            10"
      ]
     },
     "execution_count": 4,
     "metadata": {},
     "output_type": "execute_result"
    }
   ],
   "source": [
    "df.head()"
   ]
  },
  {
   "cell_type": "code",
   "execution_count": 6,
   "id": "f6422183",
   "metadata": {},
   "outputs": [
    {
     "name": "stdout",
     "output_type": "stream",
     "text": [
      "<class 'pandas.core.frame.DataFrame'>\n",
      "RangeIndex: 21 entries, 0 to 20\n",
      "Data columns (total 2 columns):\n",
      " #   Column         Non-Null Count  Dtype  \n",
      "---  ------         --------------  -----  \n",
      " 0   Delivery Time  21 non-null     float64\n",
      " 1   Sorting Time   21 non-null     int64  \n",
      "dtypes: float64(1), int64(1)\n",
      "memory usage: 464.0 bytes\n"
     ]
    }
   ],
   "source": [
    "df.info()"
   ]
  },
  {
   "cell_type": "code",
   "execution_count": 7,
   "id": "7eae184c",
   "metadata": {},
   "outputs": [
    {
     "data": {
      "text/html": [
       "<div>\n",
       "<style scoped>\n",
       "    .dataframe tbody tr th:only-of-type {\n",
       "        vertical-align: middle;\n",
       "    }\n",
       "\n",
       "    .dataframe tbody tr th {\n",
       "        vertical-align: top;\n",
       "    }\n",
       "\n",
       "    .dataframe thead th {\n",
       "        text-align: right;\n",
       "    }\n",
       "</style>\n",
       "<table border=\"1\" class=\"dataframe\">\n",
       "  <thead>\n",
       "    <tr style=\"text-align: right;\">\n",
       "      <th></th>\n",
       "      <th>Delivery Time</th>\n",
       "      <th>Sorting Time</th>\n",
       "    </tr>\n",
       "  </thead>\n",
       "  <tbody>\n",
       "    <tr>\n",
       "      <th>Delivery Time</th>\n",
       "      <td>1.000000</td>\n",
       "      <td>0.825997</td>\n",
       "    </tr>\n",
       "    <tr>\n",
       "      <th>Sorting Time</th>\n",
       "      <td>0.825997</td>\n",
       "      <td>1.000000</td>\n",
       "    </tr>\n",
       "  </tbody>\n",
       "</table>\n",
       "</div>"
      ],
      "text/plain": [
       "               Delivery Time  Sorting Time\n",
       "Delivery Time       1.000000      0.825997\n",
       "Sorting Time        0.825997      1.000000"
      ]
     },
     "execution_count": 7,
     "metadata": {},
     "output_type": "execute_result"
    }
   ],
   "source": [
    "df.corr()"
   ]
  },
  {
   "cell_type": "code",
   "execution_count": 8,
   "id": "7a9e4c74",
   "metadata": {},
   "outputs": [],
   "source": [
    "import seaborn as sns"
   ]
  },
  {
   "cell_type": "code",
   "execution_count": 9,
   "id": "8d1fee48",
   "metadata": {},
   "outputs": [
    {
     "name": "stderr",
     "output_type": "stream",
     "text": [
      "C:\\ProgramData\\Anaconda3\\lib\\site-packages\\seaborn\\distributions.py:2557: FutureWarning: `distplot` is a deprecated function and will be removed in a future version. Please adapt your code to use either `displot` (a figure-level function with similar flexibility) or `histplot` (an axes-level function for histograms).\n",
      "  warnings.warn(msg, FutureWarning)\n"
     ]
    },
    {
     "data": {
      "text/plain": [
       "<AxesSubplot:xlabel='Delivery Time', ylabel='Density'>"
      ]
     },
     "execution_count": 9,
     "metadata": {},
     "output_type": "execute_result"
    },
    {
     "data": {
      "image/png": "[encoded data removed]",
      "text/plain": [
       "<Figure size 432x288 with 1 Axes>"
      ]
     },
     "metadata": {
      "needs_background": "light"
     },
     "output_type": "display_data"
    }
   ],
   "source": [
    "sns.distplot(df['Delivery Time'])"
   ]
  },
  {
   "cell_type": "code",
   "execution_count": 13,
   "id": "4eb19c8b",
   "metadata": {},
   "outputs": [],
   "source": [
    "import matplotlib.pyplot as plt"
   ]
  },
  {
   "cell_type": "code",
   "execution_count": 14,
   "id": "558278af",
   "metadata": {},
   "outputs": [
    {
     "data": {
      "text/plain": [
       "{'whiskers': [<matplotlib.lines.Line2D at 0xbda6670>,\n",
       "  <matplotlib.lines.Line2D at 0xbda69d0>],\n",
       " 'caps': [<matplotlib.lines.Line2D at 0xbda6d30>,\n",
       "  <matplotlib.lines.Line2D at 0xbdb20d0>],\n",
       " 'boxes': [<matplotlib.lines.Line2D at 0xbda6310>],\n",
       " 'medians': [<matplotlib.lines.Line2D at 0xbdb2430>],\n",
       " 'fliers': [<matplotlib.lines.Line2D at 0xbdb2790>],\n",
       " 'means': []}"
      ]
     },
     "execution_count": 14,
     "metadata": {},
     "output_type": "execute_result"
    },
    {
     "data": {
      "image/png": "[encoded data removed]",
      "text/plain": [
       "<Figure size 432x288 with 1 Axes>"
      ]
     },
     "metadata": {
      "needs_background": "light"
     },
     "output_type": "display_data"
    }
   ],
   "source": [
    "plt.boxplot(df['Delivery Time'])"
   ]
  },
  {
   "cell_type": "code",
   "execution_count": 15,
   "id": "bfc29a02",
   "metadata": {},
   "outputs": [
    {
     "data": {
      "text/plain": [
       "{'whiskers': [<matplotlib.lines.Line2D at 0xbdeba00>,\n",
       "  <matplotlib.lines.Line2D at 0xbdebd90>],\n",
       " 'caps': [<matplotlib.lines.Line2D at 0xbdf5130>,\n",
       "  <matplotlib.lines.Line2D at 0xbdf5490>],\n",
       " 'boxes': [<matplotlib.lines.Line2D at 0xbdeb6a0>],\n",
       " 'medians': [<matplotlib.lines.Line2D at 0xbdf57f0>],\n",
       " 'fliers': [<matplotlib.lines.Line2D at 0xbdf5b50>],\n",
       " 'means': []}"
      ]
     },
     "execution_count": 15,
     "metadata": {},
     "output_type": "execute_result"
    },
    {
     "data": {
      "image/png": "[encoded data removed]",
      "text/plain": [
       "<Figure size 432x288 with 1 Axes>"
      ]
     },
     "metadata": {
      "needs_background": "light"
     },
     "output_type": "display_data"
    }
   ],
   "source": [
    "plt.boxplot(df['Sorting Time'])"
   ]
  },
  {
   "cell_type": "code",
   "execution_count": 10,
   "id": "3e1a2d53",
   "metadata": {},
   "outputs": [],
   "source": [
    "array=df.values"
   ]
  },
  {
   "cell_type": "code",
   "execution_count": 11,
   "id": "f73ead23",
   "metadata": {},
   "outputs": [
    {
     "data": {
      "text/plain": [
       "array([[21.  , 10.  ],\n",
       "       [13.5 ,  4.  ],\n",
       "       [19.75,  6.  ],\n",
       "       [24.  ,  9.  ],\n",
       "       [29.  , 10.  ],\n",
       "       [15.35,  6.  ],\n",
       "       [19.  ,  7.  ],\n",
       "       [ 9.5 ,  3.  ],\n",
       "       [17.9 , 10.  ],\n",
       "       [18.75,  9.  ],\n",
       "       [19.83,  8.  ],\n",
       "       [10.75,  4.  ],\n",
       "       [16.68,  7.  ],\n",
       "       [11.5 ,  3.  ],\n",
       "       [12.03,  3.  ],\n",
       "       [14.88,  4.  ],\n",
       "       [13.75,  6.  ],\n",
       "       [18.11,  7.  ],\n",
       "       [ 8.  ,  2.  ],\n",
       "       [17.83,  7.  ],\n",
       "       [21.5 ,  5.  ]])"
      ]
     },
     "execution_count": 11,
     "metadata": {},
     "output_type": "execute_result"
    }
   ],
   "source": [
    "array"
   ]
  },
  {
   "cell_type": "code",
   "execution_count": 21,
   "id": "c833a97e",
   "metadata": {},
   "outputs": [],
   "source": [
    "from sklearn.preprocessing import StandardScaler"
   ]
  },
  {
   "cell_type": "code",
   "execution_count": 16,
   "id": "7f74b9ea",
   "metadata": {},
   "outputs": [],
   "source": [
    "from numpy import set_printoptions"
   ]
  },
  {
   "cell_type": "code",
   "execution_count": 23,
   "id": "a19f129c",
   "metadata": {},
   "outputs": [
    {
     "name": "stdout",
     "output_type": "stream",
     "text": [
      "[[ 0.85  1.54]\n",
      " [-0.66 -0.88]\n",
      " [ 0.6  -0.08]\n",
      " [ 1.46  1.13]\n",
      " [ 2.47  1.54]]\n"
     ]
    }
   ],
   "source": [
    "scalar = StandardScaler().fit(array)#apply standardization because data is not in proper scale\n",
    "rescaledx = scalar.transform(array)\n",
    "\n",
    "set_printoptions(precision=2)\n",
    "print(rescaledx[0:5,:])"
   ]
  },
  {
   "cell_type": "code",
   "execution_count": 27,
   "id": "4f113b5a",
   "metadata": {},
   "outputs": [],
   "source": [
    "data=pd.DataFrame(rescaledx)"
   ]
  },
  {
   "cell_type": "code",
   "execution_count": 30,
   "id": "4d8b1a0f",
   "metadata": {},
   "outputs": [
    {
     "data": {
      "text/html": [
       "<div>\n",
       "<style scoped>\n",
       "    .dataframe tbody tr th:only-of-type {\n",
       "        vertical-align: middle;\n",
       "    }\n",
       "\n",
       "    .dataframe tbody tr th {\n",
       "        vertical-align: top;\n",
       "    }\n",
       "\n",
       "    .dataframe thead th {\n",
       "        text-align: right;\n",
       "    }\n",
       "</style>\n",
       "<table border=\"1\" class=\"dataframe\">\n",
       "  <thead>\n",
       "    <tr style=\"text-align: right;\">\n",
       "      <th></th>\n",
       "      <th>0</th>\n",
       "      <th>1</th>\n",
       "    </tr>\n",
       "  </thead>\n",
       "  <tbody>\n",
       "    <tr>\n",
       "      <th>0</th>\n",
       "      <td>0.849867</td>\n",
       "      <td>1.535625</td>\n",
       "    </tr>\n",
       "    <tr>\n",
       "      <th>1</th>\n",
       "      <td>-0.664490</td>\n",
       "      <td>-0.882984</td>\n",
       "    </tr>\n",
       "    <tr>\n",
       "      <th>2</th>\n",
       "      <td>0.597474</td>\n",
       "      <td>-0.076781</td>\n",
       "    </tr>\n",
       "    <tr>\n",
       "      <th>3</th>\n",
       "      <td>1.455610</td>\n",
       "      <td>1.132523</td>\n",
       "    </tr>\n",
       "    <tr>\n",
       "      <th>4</th>\n",
       "      <td>2.465181</td>\n",
       "      <td>1.535625</td>\n",
       "    </tr>\n",
       "    <tr>\n",
       "      <th>5</th>\n",
       "      <td>-0.290949</td>\n",
       "      <td>-0.076781</td>\n",
       "    </tr>\n",
       "    <tr>\n",
       "      <th>6</th>\n",
       "      <td>0.446038</td>\n",
       "      <td>0.326320</td>\n",
       "    </tr>\n",
       "    <tr>\n",
       "      <th>7</th>\n",
       "      <td>-1.472148</td>\n",
       "      <td>-1.286086</td>\n",
       "    </tr>\n",
       "    <tr>\n",
       "      <th>8</th>\n",
       "      <td>0.223933</td>\n",
       "      <td>1.535625</td>\n",
       "    </tr>\n",
       "    <tr>\n",
       "      <th>9</th>\n",
       "      <td>0.395560</td>\n",
       "      <td>1.132523</td>\n",
       "    </tr>\n",
       "    <tr>\n",
       "      <th>10</th>\n",
       "      <td>0.613627</td>\n",
       "      <td>0.729422</td>\n",
       "    </tr>\n",
       "    <tr>\n",
       "      <th>11</th>\n",
       "      <td>-1.219755</td>\n",
       "      <td>-0.882984</td>\n",
       "    </tr>\n",
       "    <tr>\n",
       "      <th>12</th>\n",
       "      <td>-0.022403</td>\n",
       "      <td>0.326320</td>\n",
       "    </tr>\n",
       "    <tr>\n",
       "      <th>13</th>\n",
       "      <td>-1.068319</td>\n",
       "      <td>-1.286086</td>\n",
       "    </tr>\n",
       "    <tr>\n",
       "      <th>14</th>\n",
       "      <td>-0.961304</td>\n",
       "      <td>-1.286086</td>\n",
       "    </tr>\n",
       "    <tr>\n",
       "      <th>15</th>\n",
       "      <td>-0.385849</td>\n",
       "      <td>-0.882984</td>\n",
       "    </tr>\n",
       "    <tr>\n",
       "      <th>16</th>\n",
       "      <td>-0.614012</td>\n",
       "      <td>-0.076781</td>\n",
       "    </tr>\n",
       "    <tr>\n",
       "      <th>17</th>\n",
       "      <td>0.266335</td>\n",
       "      <td>0.326320</td>\n",
       "    </tr>\n",
       "    <tr>\n",
       "      <th>18</th>\n",
       "      <td>-1.775019</td>\n",
       "      <td>-1.689187</td>\n",
       "    </tr>\n",
       "    <tr>\n",
       "      <th>19</th>\n",
       "      <td>0.209799</td>\n",
       "      <td>0.326320</td>\n",
       "    </tr>\n",
       "    <tr>\n",
       "      <th>20</th>\n",
       "      <td>0.950824</td>\n",
       "      <td>-0.479883</td>\n",
       "    </tr>\n",
       "  </tbody>\n",
       "</table>\n",
       "</div>"
      ],
      "text/plain": [
       "           0         1\n",
       "0   0.849867  1.535625\n",
       "1  -0.664490 -0.882984\n",
       "2   0.597474 -0.076781\n",
       "3   1.455610  1.132523\n",
       "4   2.465181  1.535625\n",
       "5  -0.290949 -0.076781\n",
       "6   0.446038  0.326320\n",
       "7  -1.472148 -1.286086\n",
       "8   0.223933  1.535625\n",
       "9   0.395560  1.132523\n",
       "10  0.613627  0.729422\n",
       "11 -1.219755 -0.882984\n",
       "12 -0.022403  0.326320\n",
       "13 -1.068319 -1.286086\n",
       "14 -0.961304 -1.286086\n",
       "15 -0.385849 -0.882984\n",
       "16 -0.614012 -0.076781\n",
       "17  0.266335  0.326320\n",
       "18 -1.775019 -1.689187\n",
       "19  0.209799  0.326320\n",
       "20  0.950824 -0.479883"
      ]
     },
     "execution_count": 30,
     "metadata": {},
     "output_type": "execute_result"
    }
   ],
   "source": [
    "data"
   ]
  },
  {
   "cell_type": "code",
   "execution_count": 63,
   "id": "42950e57",
   "metadata": {},
   "outputs": [],
   "source": [
    "data.columns=['DelivTime','SortTime']"
   ]
  },
  {
   "cell_type": "code",
   "execution_count": 64,
   "id": "d4b7cae8",
   "metadata": {},
   "outputs": [
    {
     "data": {
      "text/html": [
       "<div>\n",
       "<style scoped>\n",
       "    .dataframe tbody tr th:only-of-type {\n",
       "        vertical-align: middle;\n",
       "    }\n",
       "\n",
       "    .dataframe tbody tr th {\n",
       "        vertical-align: top;\n",
       "    }\n",
       "\n",
       "    .dataframe thead th {\n",
       "        text-align: right;\n",
       "    }\n",
       "</style>\n",
       "<table border=\"1\" class=\"dataframe\">\n",
       "  <thead>\n",
       "    <tr style=\"text-align: right;\">\n",
       "      <th></th>\n",
       "      <th>DelivTime</th>\n",
       "      <th>SortTime</th>\n",
       "    </tr>\n",
       "  </thead>\n",
       "  <tbody>\n",
       "    <tr>\n",
       "      <th>0</th>\n",
       "      <td>0.849867</td>\n",
       "      <td>1.535625</td>\n",
       "    </tr>\n",
       "    <tr>\n",
       "      <th>1</th>\n",
       "      <td>-0.664490</td>\n",
       "      <td>-0.882984</td>\n",
       "    </tr>\n",
       "    <tr>\n",
       "      <th>2</th>\n",
       "      <td>0.597474</td>\n",
       "      <td>-0.076781</td>\n",
       "    </tr>\n",
       "    <tr>\n",
       "      <th>3</th>\n",
       "      <td>1.455610</td>\n",
       "      <td>1.132523</td>\n",
       "    </tr>\n",
       "    <tr>\n",
       "      <th>4</th>\n",
       "      <td>2.465181</td>\n",
       "      <td>1.535625</td>\n",
       "    </tr>\n",
       "    <tr>\n",
       "      <th>5</th>\n",
       "      <td>-0.290949</td>\n",
       "      <td>-0.076781</td>\n",
       "    </tr>\n",
       "    <tr>\n",
       "      <th>6</th>\n",
       "      <td>0.446038</td>\n",
       "      <td>0.326320</td>\n",
       "    </tr>\n",
       "    <tr>\n",
       "      <th>7</th>\n",
       "      <td>-1.472148</td>\n",
       "      <td>-1.286086</td>\n",
       "    </tr>\n",
       "    <tr>\n",
       "      <th>8</th>\n",
       "      <td>0.223933</td>\n",
       "      <td>1.535625</td>\n",
       "    </tr>\n",
       "    <tr>\n",
       "      <th>9</th>\n",
       "      <td>0.395560</td>\n",
       "      <td>1.132523</td>\n",
       "    </tr>\n",
       "    <tr>\n",
       "      <th>10</th>\n",
       "      <td>0.613627</td>\n",
       "      <td>0.729422</td>\n",
       "    </tr>\n",
       "    <tr>\n",
       "      <th>11</th>\n",
       "      <td>-1.219755</td>\n",
       "      <td>-0.882984</td>\n",
       "    </tr>\n",
       "    <tr>\n",
       "      <th>12</th>\n",
       "      <td>-0.022403</td>\n",
       "      <td>0.326320</td>\n",
       "    </tr>\n",
       "    <tr>\n",
       "      <th>13</th>\n",
       "      <td>-1.068319</td>\n",
       "      <td>-1.286086</td>\n",
       "    </tr>\n",
       "    <tr>\n",
       "      <th>14</th>\n",
       "      <td>-0.961304</td>\n",
       "      <td>-1.286086</td>\n",
       "    </tr>\n",
       "    <tr>\n",
       "      <th>15</th>\n",
       "      <td>-0.385849</td>\n",
       "      <td>-0.882984</td>\n",
       "    </tr>\n",
       "    <tr>\n",
       "      <th>16</th>\n",
       "      <td>-0.614012</td>\n",
       "      <td>-0.076781</td>\n",
       "    </tr>\n",
       "    <tr>\n",
       "      <th>17</th>\n",
       "      <td>0.266335</td>\n",
       "      <td>0.326320</td>\n",
       "    </tr>\n",
       "    <tr>\n",
       "      <th>18</th>\n",
       "      <td>-1.775019</td>\n",
       "      <td>-1.689187</td>\n",
       "    </tr>\n",
       "    <tr>\n",
       "      <th>19</th>\n",
       "      <td>0.209799</td>\n",
       "      <td>0.326320</td>\n",
       "    </tr>\n",
       "    <tr>\n",
       "      <th>20</th>\n",
       "      <td>0.950824</td>\n",
       "      <td>-0.479883</td>\n",
       "    </tr>\n",
       "  </tbody>\n",
       "</table>\n",
       "</div>"
      ],
      "text/plain": [
       "    DelivTime  SortTime\n",
       "0    0.849867  1.535625\n",
       "1   -0.664490 -0.882984\n",
       "2    0.597474 -0.076781\n",
       "3    1.455610  1.132523\n",
       "4    2.465181  1.535625\n",
       "5   -0.290949 -0.076781\n",
       "6    0.446038  0.326320\n",
       "7   -1.472148 -1.286086\n",
       "8    0.223933  1.535625\n",
       "9    0.395560  1.132523\n",
       "10   0.613627  0.729422\n",
       "11  -1.219755 -0.882984\n",
       "12  -0.022403  0.326320\n",
       "13  -1.068319 -1.286086\n",
       "14  -0.961304 -1.286086\n",
       "15  -0.385849 -0.882984\n",
       "16  -0.614012 -0.076781\n",
       "17   0.266335  0.326320\n",
       "18  -1.775019 -1.689187\n",
       "19   0.209799  0.326320\n",
       "20   0.950824 -0.479883"
      ]
     },
     "execution_count": 64,
     "metadata": {},
     "output_type": "execute_result"
    }
   ],
   "source": [
    "data"
   ]
  },
  {
   "cell_type": "code",
   "execution_count": 72,
   "id": "20fbd75e",
   "metadata": {},
   "outputs": [
    {
     "data": {
      "text/plain": [
       "{'whiskers': [<matplotlib.lines.Line2D at 0xc3401f0>,\n",
       "  <matplotlib.lines.Line2D at 0xc32de80>],\n",
       " 'caps': [<matplotlib.lines.Line2D at 0xc32d160>,\n",
       "  <matplotlib.lines.Line2D at 0xca5d490>],\n",
       " 'boxes': [<matplotlib.lines.Line2D at 0xc340730>],\n",
       " 'medians': [<matplotlib.lines.Line2D at 0xca5d040>],\n",
       " 'fliers': [<matplotlib.lines.Line2D at 0xca5d9a0>],\n",
       " 'means': []}"
      ]
     },
     "execution_count": 72,
     "metadata": {},
     "output_type": "execute_result"
    },
    {
     "data": {
      "image/png": "[encoded data removed]",
      "text/plain": [
       "<Figure size 432x288 with 1 Axes>"
      ]
     },
     "metadata": {
      "needs_background": "light"
     },
     "output_type": "display_data"
    }
   ],
   "source": [
    "plt.boxplot(data['SortTime'])"
   ]
  },
  {
   "cell_type": "code",
   "execution_count": 74,
   "id": "3d77f7a8",
   "metadata": {},
   "outputs": [
    {
     "name": "stderr",
     "output_type": "stream",
     "text": [
      "C:\\ProgramData\\Anaconda3\\lib\\site-packages\\seaborn\\distributions.py:2557: FutureWarning: `distplot` is a deprecated function and will be removed in a future version. Please adapt your code to use either `displot` (a figure-level function with similar flexibility) or `histplot` (an axes-level function for histograms).\n",
      "  warnings.warn(msg, FutureWarning)\n"
     ]
    },
    {
     "data": {
      "text/plain": [
       "<AxesSubplot:xlabel='DelivTime', ylabel='Density'>"
      ]
     },
     "execution_count": 74,
     "metadata": {},
     "output_type": "execute_result"
    },
    {
     "data": {
      "image/png": "[encoded data removed]",
      "text/plain": [
       "<Figure size 432x288 with 1 Axes>"
      ]
     },
     "metadata": {
      "needs_background": "light"
     },
     "output_type": "display_data"
    }
   ],
   "source": [
    "sns.distplot(data['DelivTime'])"
   ]
  },
  {
   "cell_type": "code",
   "execution_count": 70,
   "id": "dbcd30de",
   "metadata": {},
   "outputs": [
    {
     "data": {
      "text/html": [
       "<div>\n",
       "<style scoped>\n",
       "    .dataframe tbody tr th:only-of-type {\n",
       "        vertical-align: middle;\n",
       "    }\n",
       "\n",
       "    .dataframe tbody tr th {\n",
       "        vertical-align: top;\n",
       "    }\n",
       "\n",
       "    .dataframe thead th {\n",
       "        text-align: right;\n",
       "    }\n",
       "</style>\n",
       "<table border=\"1\" class=\"dataframe\">\n",
       "  <thead>\n",
       "    <tr style=\"text-align: right;\">\n",
       "      <th></th>\n",
       "      <th>DelivTime</th>\n",
       "      <th>SortTime</th>\n",
       "    </tr>\n",
       "  </thead>\n",
       "  <tbody>\n",
       "    <tr>\n",
       "      <th>DelivTime</th>\n",
       "      <td>1.000000</td>\n",
       "      <td>0.825997</td>\n",
       "    </tr>\n",
       "    <tr>\n",
       "      <th>SortTime</th>\n",
       "      <td>0.825997</td>\n",
       "      <td>1.000000</td>\n",
       "    </tr>\n",
       "  </tbody>\n",
       "</table>\n",
       "</div>"
      ],
      "text/plain": [
       "           DelivTime  SortTime\n",
       "DelivTime   1.000000  0.825997\n",
       "SortTime    0.825997  1.000000"
      ]
     },
     "execution_count": 70,
     "metadata": {},
     "output_type": "execute_result"
    }
   ],
   "source": [
    "data.corr()"
   ]
  },
  {
   "cell_type": "code",
   "execution_count": 41,
   "id": "c4c5daf8",
   "metadata": {},
   "outputs": [],
   "source": [
    "import statsmodels.formula.api as smf"
   ]
  },
  {
   "cell_type": "code",
   "execution_count": 80,
   "id": "7db96a07",
   "metadata": {},
   "outputs": [],
   "source": [
    "model = smf.ols(\"DelivTime ~ SortTime\",data = data).fit()"
   ]
  },
  {
   "cell_type": "code",
   "execution_count": 81,
   "id": "1116dd7a",
   "metadata": {},
   "outputs": [
    {
     "data": {
      "image/png": "[encoded data removed]",
      "text/plain": [
       "<Figure size 432x288 with 1 Axes>"
      ]
     },
     "metadata": {
      "needs_background": "light"
     },
     "output_type": "display_data"
    }
   ],
   "source": [
    "sns.regplot(x=\"DelivTime\",y=\"SortTime\",data=data);"
   ]
  },
  {
   "cell_type": "code",
   "execution_count": 67,
   "id": "45513736",
   "metadata": {},
   "outputs": [
    {
     "data": {
      "text/plain": [
       "Intercept   -4.996004e-16\n",
       "SortTime     8.259973e-01\n",
       "dtype: float64"
      ]
     },
     "execution_count": 67,
     "metadata": {},
     "output_type": "execute_result"
    }
   ],
   "source": [
    "#coefficients\n",
    "model.params"
   ]
  },
  {
   "cell_type": "code",
   "execution_count": 68,
   "id": "02be6387",
   "metadata": {},
   "outputs": [
    {
     "name": "stdout",
     "output_type": "stream",
     "text": [
      "Intercept   -3.863416e-15\n",
      "SortTime     6.387447e+00\n",
      "dtype: float64 \n",
      " Intercept    1.000000\n",
      "SortTime     0.000004\n",
      "dtype: float64\n"
     ]
    }
   ],
   "source": [
    "#t and p-Values\n",
    "print(model.tvalues, '\\n', model.pvalues)"
   ]
  },
  {
   "cell_type": "code",
   "execution_count": 69,
   "id": "01546dc5",
   "metadata": {},
   "outputs": [
    {
     "data": {
      "text/plain": [
       "(0.6822714748417231, 0.6655489208860244)"
      ]
     },
     "execution_count": 69,
     "metadata": {},
     "output_type": "execute_result"
    }
   ],
   "source": [
    "(model.rsquared,model.rsquared_adj)"
   ]
  },
  {
   "cell_type": "code",
   "execution_count": 75,
   "id": "c078d72f",
   "metadata": {},
   "outputs": [],
   "source": [
    "newdata=pd.Series([2,3])#predicting random data "
   ]
  },
  {
   "cell_type": "code",
   "execution_count": 82,
   "id": "4e82dd28",
   "metadata": {},
   "outputs": [],
   "source": [
    "data_pred=pd.DataFrame(newdata,columns=['SortTime'])"
   ]
  },
  {
   "cell_type": "code",
   "execution_count": 83,
   "id": "0b4f1cee",
   "metadata": {},
   "outputs": [
    {
     "data": {
      "text/plain": [
       "0    1.651995\n",
       "1    2.477992\n",
       "dtype: float64"
      ]
     },
     "execution_count": 83,
     "metadata": {},
     "output_type": "execute_result"
    }
   ],
   "source": [
    "model.predict(data_pred)#we get Delivery time predicted values from this SortTime"
   ]
  },
  {
   "cell_type": "code",
   "execution_count": null,
   "id": "234e8178",
   "metadata": {},
   "outputs": [],
   "source": []
  }
 ],
 "metadata": {
  "kernelspec": {
   "display_name": "Python 3",
   "language": "python",
   "name": "python3"
  },
  "language_info": {
   "codemirror_mode": {
    "name": "ipython",
    "version": 3
   },
   "file_extension": ".py",
   "mimetype": "text/x-python",
   "name": "python",
   "nbconvert_exporter": "python",
   "pygments_lexer": "ipython3",
   "version": "3.8.8"
  }
 },
 "nbformat": 4,
 "nbformat_minor": 5
}
